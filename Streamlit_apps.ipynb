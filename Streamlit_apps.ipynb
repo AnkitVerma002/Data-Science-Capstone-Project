{
  "nbformat": 4,
  "nbformat_minor": 0,
  "metadata": {
    "colab": {
      "provenance": [],
      "authorship_tag": "ABX9TyNdoeQmA4H9lNmzeJHreYb+",
      "include_colab_link": true
    },
    "kernelspec": {
      "name": "python3",
      "display_name": "Python 3"
    },
    "language_info": {
      "name": "python"
    }
  },
  "cells": [
    {
      "cell_type": "markdown",
      "metadata": {
        "id": "view-in-github",
        "colab_type": "text"
      },
      "source": [
        "<a href=\"https://colab.research.google.com/github/AnkitVerma002/Data-Science-Capstone-Project/blob/main/Streamlit_apps.ipynb\" target=\"_parent\"><img src=\"https://colab.research.google.com/assets/colab-badge.svg\" alt=\"Open In Colab\"/></a>"
      ]
    },
    {
      "cell_type": "code",
      "execution_count": 7,
      "metadata": {
        "id": "-LPlBMCuWPy_"
      },
      "outputs": [],
      "source": [
        "#!/usr/bin/env python\n",
        "# coding: utf-8\n",
        "\n",
        "# In[7]:\n",
        "\n",
        "\n",
        "import pandas as pd\n",
        "from sklearn.ensemble import GradientBoostingRegressor\n",
        "from sklearn.compose import ColumnTransformer\n",
        "from sklearn.preprocessing import OneHotEncoder\n",
        "\n",
        "\n",
        "# In[8]:\n",
        "\n",
        "\n",
        "# Load the dataset\n",
        "df = pd.read_csv(\"CAR DETAILS.csv\")\n",
        "\n",
        "X = df.drop('selling_price', axis=1)\n",
        "y = df['selling_price']\n",
        "\n",
        "categorical_columns = ['name', 'fuel', 'seller_type', 'transmission', 'owner']\n",
        "\n",
        "# Apply one-hot encoding to the categorical columns\n",
        "preprocessor = ColumnTransformer(\n",
        "transformers=[('encoder', OneHotEncoder(), categorical_columns)],\n",
        "remainder='passthrough')\n",
        "\n",
        "X_encoded = preprocessor.fit_transform(X)\n",
        "\n",
        "from sklearn.model_selection import train_test_split\n",
        "\n",
        "# Split the dataset into training and testing sets\n",
        "X_train, X_test, y_train, y_test = train_test_split(X_encoded, y, test_size=0.25, random_state=1)\n",
        "\n",
        "# Initialize the Random Forest Regressor\n",
        "gbr = GradientBoostingRegressor()\n",
        "\n",
        "# Train the model\n",
        "gbr.fit(X_train, y_train)\n",
        "\n",
        "def main():\n",
        "    st.set_page_config(\n",
        "        page_title=\"CAR DEKHO\",\n",
        "        page_icon=\":car:\",\n",
        "        layout=\"centered\",)\n",
        "    st.title('Car Selling Price Predictor')\n",
        "    st.header('Fill the details to predict the Car price')\n",
        "\n",
        "\n",
        "# In[9]:\n",
        "\n",
        "\n",
        "import streamlit as st\n",
        "\n",
        "# Create the Streamlit app\n",
        "st.title('Car Selling Price Prediction')\n",
        "\n",
        "# User input for feature values\n",
        "user_input = {}\n",
        "for column in X.columns:\n",
        "    if column in categorical_columns:\n",
        "        unique_values = df[column].unique()\n",
        "        user_input[column] = st.selectbox(column, unique_values)\n",
        "    else:\n",
        "        user_input[column] = st.number_input(column, value=0)\n",
        "\n",
        "# Transform user input to one-hot encoding\n",
        "user_input_encoded = preprocessor.transform(pd.DataFrame(user_input, index=[0]))\n",
        "\n",
        "# Make predictions using the trained model\n",
        "prediction = gbr.predict(user_input_encoded)\n",
        "\n",
        "# Display the prediction\n",
        "st.subheader('Prediction')\n",
        "st.write(f'The predicted selling price is: {prediction[0]}')\n",
        "\n",
        "# Footer\n",
        "st.sidebar.markdown(\"---\")\n",
        "st.sidebar.markdown(\"### Follow me on\")\n",
        "col1, col2 = st.sidebar.columns(2)"
      ]
    }
  ]
}